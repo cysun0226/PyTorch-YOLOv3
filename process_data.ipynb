{
 "cells": [
  {
   "cell_type": "markdown",
   "metadata": {},
   "source": [
    "# Read all images"
   ]
  },
  {
   "cell_type": "code",
   "execution_count": 22,
   "metadata": {},
   "outputs": [],
   "source": [
    "import os\n",
    "import random\n",
    "import shutil\n",
    "\n",
    "all_data = {'crazing': [], 'inclusion': [], 'patches': [], 'pitted': [], 'rolled-in': [], 'scratches': []}\n",
    "\n",
    "for f in os.listdir('origin/IMAGES'):\n",
    "    all_data[f.split('_')[0]].append(f)\n",
    "\n",
    "# randomly select validation data\n",
    "VALID_NUM = 60\n",
    "valid_set = {'crazing': [], 'inclusion': [], 'patches': [], 'pitted': [], 'rolled-in': [], 'scratches': []}\n",
    "for c in all_data:\n",
    "    for i in range(VALID_NUM):\n",
    "        selected = random.choice(all_data[c])\n",
    "        valid_set[c].append(selected)\n",
    "        all_data[c].remove(selected)\n",
    "        \n",
    "\n",
    "# randomly select evaluation data\n",
    "EVALUATE_NUM = 60\n",
    "eval_set = {'crazing': [], 'inclusion': [], 'patches': [], 'pitted': [], 'rolled-in': [], 'scratches': []}\n",
    "for c in all_data:\n",
    "    for i in range(EVALUATE_NUM):\n",
    "        selected = random.choice(all_data[c])\n",
    "        eval_set[c].append(selected)\n",
    "        all_data[c].remove(selected)\n",
    "\n",
    "# clean the dirs\n",
    "shutil.rmtree('test')\n",
    "shutil.rmtree('train')\n",
    "shutil.rmtree('valid')\n",
    "os.mkdir('train')\n",
    "os.mkdir('test')\n",
    "os.mkdir('valid')\n",
    "\n",
    "# copy image to the dir according to the list\n",
    "for c in all_data:\n",
    "    for f in all_data[c]:\n",
    "        shutil.copy(f'origin/IMAGES/{f}', 'train')\n",
    "    for f in valid_set[c]:\n",
    "        shutil.copy(f'origin/IMAGES/{f}', 'valid')\n",
    "    for f in eval_set[c]:\n",
    "        shutil.copy(f'origin/IMAGES/{f}', 'test')"
   ]
  },
  {
   "cell_type": "markdown",
   "metadata": {},
   "source": [
    "# Convert annotation to YOLO format"
   ]
  },
  {
   "cell_type": "code",
   "execution_count": 38,
   "metadata": {
    "scrolled": true
   },
   "outputs": [],
   "source": [
    "import xml.etree.ElementTree as ET\n",
    "import os\n",
    "\n",
    "classes = ['crazing', 'inclusion', 'patches', 'pitted_surface', 'rolled-in_scale', 'scratches']\n",
    "\n",
    "def convert_bndbox(size, box):\n",
    "    dw = 1./size[0]\n",
    "    dh = 1./size[1]\n",
    "    x = (box[0] + box[1])/2.0\n",
    "    y = (box[2] + box[3])/2.0\n",
    "    w = box[1] - box[0]\n",
    "    h = box[3] - box[2]\n",
    "    x = x*dw\n",
    "    w = w*dw\n",
    "    y = y*dh\n",
    "    h = h*dh\n",
    "    return (x,y,w,h)\n",
    "\n",
    "def convert(in_name, out_name):\n",
    "    \n",
    "    in_file = open(in_name, 'r')\n",
    "    out_file = open(out_name, 'w') # .txt\n",
    "    \n",
    "    tree = ET.parse(in_file)\n",
    "    root = tree.getroot()\n",
    "    size = root.find('size')  \n",
    "    w = int(size.find('width').text)\n",
    "    h = int(size.find('height').text)\n",
    "\n",
    "    for obj in root.iter('object'):\n",
    "        cls = obj.find('name').text\n",
    "        if cls not in classes :\n",
    "            continue\n",
    "        cls_id = classes.index(cls)\n",
    "        xmlbox = obj.find('bndbox')   \n",
    "        box = (float(xmlbox.find('xmin').text), float(xmlbox.find('xmax').text), float(xmlbox.find('ymin').text), float(xmlbox.find('ymax').text))\n",
    "        converted_box = convert_bndbox((w,h), box)\n",
    "        \n",
    "        out_file.write(str(cls_id) + \" \" + \" \".join([str(s) for s in converted_box]) + '\\n')\n",
    "\n",
    "for folder in ['train', 'valid', 'test']:\n",
    "    for f in os.listdir(f'{folder}/images'):\n",
    "        file_name = f.split('.jpg')[0]\n",
    "        convert(f'origin/ANNOTATIONS/{file_name}.xml', f'{folder}/labels/{file_name}.txt')\n"
   ]
  },
  {
   "cell_type": "markdown",
   "metadata": {},
   "source": [
    "# Make image list"
   ]
  },
  {
   "cell_type": "code",
   "execution_count": 30,
   "metadata": {},
   "outputs": [],
   "source": [
    "for folder in ['train', 'valid', 'test']:\n",
    "    out_file = open(f'/home/cysun/Projects/dl_system/DL_system/DLSR-final/PyTorch-YOLOv3/data/custom/{folder}.txt', 'w')\n",
    "    for f in os.listdir(f'{folder}/images'):\n",
    "        out_file.write(f\"../../../train_data/NEU-DET/{folder}/images/{f}\\n\")\n",
    "    out_file.close()"
   ]
  },
  {
   "cell_type": "markdown",
   "metadata": {},
   "source": [
    "## k-means clustering for anchor boxes \n",
    "* Reference: https://lars76.github.io/object-detection/k-means-anchor-boxes/"
   ]
  },
  {
   "cell_type": "code",
   "execution_count": 53,
   "metadata": {},
   "outputs": [
    {
     "name": "stdout",
     "output_type": "stream",
     "text": [
      "[[ 46.  39.]\n",
      " [ 28. 185.]\n",
      " [172.  28.]\n",
      " [154. 193.]\n",
      " [ 74.  63.]\n",
      " [ 68. 133.]\n",
      " [134.  75.]\n",
      " [ 37.  77.]\n",
      " [ 19.  42.]]\n"
     ]
    }
   ],
   "source": [
    "import numpy as np\n",
    "\n",
    "def iou(box, clusters):\n",
    "    x = np.minimum(clusters[:, 0], box[0])\n",
    "    y = np.minimum(clusters[:, 1], box[1])\n",
    "\n",
    "    intersection = x * y\n",
    "    box_area = box[0] * box[1]\n",
    "    cluster_area = clusters[:, 0] * clusters[:, 1]\n",
    "\n",
    "    iou_ = intersection / (box_area + cluster_area - intersection)\n",
    "\n",
    "    return iou_\n",
    "\n",
    "def kmeans(boxes, k, dist=np.median):\n",
    "    rows = boxes.shape[0]\n",
    "\n",
    "    distances = np.empty((rows, k))\n",
    "    last_clusters = np.zeros((rows,))\n",
    "\n",
    "    np.random.seed()\n",
    "\n",
    "    clusters = boxes[np.random.choice(rows, k, replace=False)]\n",
    "\n",
    "    while True:\n",
    "        for row in range(rows):\n",
    "            distances[row] = 1 - iou(boxes[row], clusters)\n",
    "\n",
    "        nearest_clusters = np.argmin(distances, axis=1)\n",
    "\n",
    "        if (last_clusters == nearest_clusters).all():\n",
    "            break\n",
    "\n",
    "        for cluster in range(k):\n",
    "            clusters[cluster] = dist(boxes[nearest_clusters == cluster], axis=0)\n",
    "\n",
    "        last_clusters = nearest_clusters\n",
    "\n",
    "    return clusters\n",
    "\n",
    "def get_annoation_boxes(in_name):\n",
    "    in_file = open(in_name, 'r')\n",
    "    tree = ET.parse(in_file)\n",
    "    root = tree.getroot()\n",
    "    boxes = []\n",
    "    \n",
    "    for obj in root.iter('object'):\n",
    "        xmlbox = obj.find('bndbox')   \n",
    "#         boxes.append((float(xmlbox.find('xmin').text), float(xmlbox.find('ymin').text), float(xmlbox.find('xmax').text), float(xmlbox.find('ymax').text)))\n",
    "        boxes.append((float(xmlbox.find('xmax').text) - float(xmlbox.find('xmin').text), float(xmlbox.find('ymax').text) - float(xmlbox.find('ymin').text)))\n",
    "    \n",
    "    return boxes\n",
    "\n",
    "boxes = []\n",
    "\n",
    "# get boxes from annoation files\n",
    "for f in os.listdir(f'origin/ANNOTATIONS'):\n",
    "    boxes = boxes + get_annoation_boxes(f\"origin/ANNOTATIONS/{f}\")\n",
    "\n",
    "# compute k-means\n",
    "print(kmeans(np.array(boxes), 9))    "
   ]
  }
 ],
 "metadata": {
  "kernelspec": {
   "display_name": "Python 3",
   "language": "python",
   "name": "python3"
  },
  "language_info": {
   "codemirror_mode": {
    "name": "ipython",
    "version": 3
   },
   "file_extension": ".py",
   "mimetype": "text/x-python",
   "name": "python",
   "nbconvert_exporter": "python",
   "pygments_lexer": "ipython3",
   "version": "3.6.9"
  }
 },
 "nbformat": 4,
 "nbformat_minor": 2
}
